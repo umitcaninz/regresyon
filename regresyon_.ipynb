{
 "cells": [
  {
   "cell_type": "markdown",
   "id": "cd79a6f7",
   "metadata": {},
   "source": [
    "<h1 style=\"background-color:#3b5998;font-family:newtimeroman;font-size:300%;text-align:left;color:#FFFFFF\">REGRESYON VARSAYIMLARI\n",
    "</h1>\n"
   ]
  },
  {
   "cell_type": "markdown",
   "id": "073c2822",
   "metadata": {},
   "source": [
    "<h1 style=\"background-color:#3b5998;font-family:newtimeroman;font-size:250%;text-align:center;color:#FFFFFF\"> Normal Dağılım Varsayımı\n",
    "</h1>"
   ]
  },
  {
   "cell_type": "markdown",
   "id": "1609515e",
   "metadata": {},
   "source": [
    "### Normal dağılım varsayımı, bir veri setinin dağılımının normal (Gaussian) bir formda olduğunu öne sürer. Normal dağılıma sahip bir veri seti, ortalaması etrafında simetrik bir şekilde dağılmıştır ve çoğu değer ortalamaya yakındır, daha az değer ise uç noktalara doğru seyreder."
   ]
  },
  {
   "cell_type": "markdown",
   "id": "05dae44c",
   "metadata": {},
   "source": [
    "<h1 style=\"background-color:#3b5998;font-family:newtimeroman;font-size:200%;text-align:left;color:#FFFFFF\">Neden Kullanılır?\n",
    "</h1>"
   ]
  },
  {
   "cell_type": "markdown",
   "id": "f92e8baf",
   "metadata": {},
   "source": [
    "### 1-Parametrik Testlerin Temelidir.\n",
    "#### Parametrik istatistiksel testler, örneğin t-testi, ANOVA, regresyon analizi gibi testler, normal dağılım varsayımını temel alır. Bu testler, veri setinin normal dağılıma sahip olduğunu varsayar."
   ]
  },
  {
   "cell_type": "markdown",
   "id": "afa3264e",
   "metadata": {},
   "source": [
    "### 2-İstatistiksel Sonuçların Güvenilirliği:\n",
    "#### Normal dağılım, istatistiksel sonuçların güvenilirliğini ve doğruluğunu artırır. Normal dağılım varsayımının sağlanması, parametre tahminlerinin ve hipotez testlerinin daha güvenilir olmasını sağlar."
   ]
  },
  {
   "cell_type": "markdown",
   "id": "674d957e",
   "metadata": {},
   "source": [
    "### 3-Hipotez Testleri ve Güven Aralıkları:\n",
    "#### Hipotez testleri ve güven aralıkları, parametrik testlerin temelini oluşturur. Normal dağılım varsayımı, bu testlerin ve aralıkların güvenilir olmasını sağlar.\n"
   ]
  },
  {
   "cell_type": "markdown",
   "id": "245cf8a8",
   "metadata": {},
   "source": [
    "<h1 style=\"background-color:#3b5998;font-family:newtimeroman;font-size:200%;text-align:left;color:#FFFFFF\">Önemi Nedir?\n",
    "</h1>"
   ]
  },
  {
   "cell_type": "markdown",
   "id": "d342460c",
   "metadata": {},
   "source": [
    "### Doğru Parametre Tahminleri:\n",
    "#### Normal dağılım varsayımı sağlandığında, parametre tahminleri (örneğin, ortalama ve standart sapma) daha doğru ve güvenilir olur.\n",
    "\n"
   ]
  },
  {
   "cell_type": "markdown",
   "id": "27944b9c",
   "metadata": {},
   "source": [
    "### Hipotez Testlerinin Güvenilirliği:\n",
    "#### Parametrik hipotez testleri , normal dağılım varsayımına dayanır. Bu varsayımların sağlanması test sonuçlarının güvenirliliğini arttırır.\n"
   ]
  },
  {
   "cell_type": "markdown",
   "id": "3c7b266e",
   "metadata": {},
   "source": [
    "### Güven Aralığı Hassasiyeti:\n",
    "#### Güven aralığı bir parametrenin belirli bir aralık içinde olma olasılığını belirtir. Normal dağılım varsayımının sağlanması , güven aralıklarının daha hassas ve güvenilir olmasını sağlar"
   ]
  },
  {
   "cell_type": "markdown",
   "id": "2faf2642",
   "metadata": {},
   "source": [
    "### Genelleme Yeteneği: \n",
    "#### Normal dağılım varsayımının sağlanması, regresyon modelinin daha genel bir popülasyona genellenmesini kolaylaştırır. Modelin bir popülasyon içindeki genel eğilimleri temsil etmesi daha olasıdır."
   ]
  },
  {
   "cell_type": "markdown",
   "id": "2b37fa57",
   "metadata": {},
   "source": [
    "<h1 style=\"background-color:#3b5998;font-family:newtimeroman;font-size:200%;text-align:left;color:#FFFFFF\">Ne İşimize Yarar ?\n",
    "</h1>"
   ]
  },
  {
   "cell_type": "markdown",
   "id": "3d3bbcb9",
   "metadata": {},
   "source": [
    "### Doğru Kararlar Almamıza Yardımcı Olur:\n",
    "#### Normal dağılım varsayımı parametrik testlerle ilgili doğru kararlar almamımza yardıımcı olur . Yanlış varsayımlar , hatalı sonuçlara ve yanıltıcı yorumlara yol açabiilir."
   ]
  },
  {
   "cell_type": "markdown",
   "id": "967cf6c5",
   "metadata": {},
   "source": [
    "### Sonuçların Güvenilirliğini Artırır:\n",
    "#### Normal dağılım varsayımının sağlanması istatistikesl sonucların güvenilirliğini artırır . Bu da araştımacılara ve karar vericilere daha güçlü ve güvenilir sonuclar sunar. "
   ]
  },
  {
   "cell_type": "markdown",
   "id": "3fe9e0f9",
   "metadata": {},
   "source": [
    "<h1 style=\"background-color:#3b5998;font-family:newtimeroman;font-size:200%;text-align:left;color:#FFFFFF\">Normal Dağılımın Bozulma Nedenleri Nelerdir ?\n",
    "</h1>"
   ]
  },
  {
   "cell_type": "markdown",
   "id": "db4b8c9c",
   "metadata": {},
   "source": [
    "<h1 style=\"background-color:#FFA500;font-family:newtimeroman;font-size:200%;text-align:left;color:#FFFFFF\"> Örneklem Büyüklüğü: \n",
    "</h1>"
   ]
  },
  {
   "cell_type": "markdown",
   "id": "d9dfa525",
   "metadata": {},
   "source": [
    "#### Küçük örneklem büyüklükleri, hata terimlerinin normal bir dağılıma sahip olmasını zorlaştırabilir. Büyük örneklem büyüklükleri, bu varsayımın sağlanmasını daha olası kılar."
   ]
  },
  {
   "cell_type": "markdown",
   "id": "f336c719",
   "metadata": {},
   "source": [
    "### Küçük Örneklem\n",
    "#### Bir veri setinde 30 veri noktasından az varsa, bu küçük bir örneklemdir.\n",
    "#### Küçük örnekklem hata terimlerinin normal bir dağılıma sahip olmasını zorlaştırabilir. Bu durum parametrik testlerde örneğin t-testi veya ANOVA gibi parametrik testlerin güvenilirliği azalabilir. \n",
    "#### Küçük örneklemlerde non-parametrik testlere yönelmek daha mantıklıdır."
   ]
  },
  {
   "cell_type": "markdown",
   "id": "cdf12e6b",
   "metadata": {},
   "source": [
    "### Büyük Örneklem:\n",
    "#### Büyük örneklemler , Merkezi Limit Teoreminden yararlanarak örneklemin normal dağılıma yaklaşmasını sağlar . Büyük örneklemlerde veriyi dönüştürerek normallik varsayımı yapabiliriz."
   ]
  },
  {
   "cell_type": "markdown",
   "id": "419689f3",
   "metadata": {},
   "source": [
    "<h1 style=\"background-color:#FFA500;font-family:newtimeroman;font-size:200%;text-align:left;color:#FFFFFF\"> Aykırı Değerlerin Normal Dağılım Varsayımına Etkisi:\n",
    "</h1>\n"
   ]
  },
  {
   "cell_type": "markdown",
   "id": "da3306d9",
   "metadata": {},
   "source": [
    "#### Aykırı değerler bir veri setindeki genel trendden farklı olan değerlerdir . Bu değerler normal dağılım varsayımını bozabilir.\n",
    "#### Aykırı değerler regresyon modelinin katsayılarını ve tahminlerini yanıltabilir. Regresyon analizinde hata terimlerinin normal dağılıma sahip olması önemlidir.\n",
    "#### Parametrik testler normal dağılıma sahip olduğu için aykırı değerlerin varlığında analizimizin sonuçları güvenilir olmaz."
   ]
  },
  {
   "cell_type": "markdown",
   "id": "b1743805",
   "metadata": {},
   "source": [
    "\n",
    "<h1 style=\"background-color:#FFA500;font-family:newtimeroman;font-size:200%;text-align:left;color:#FFFFFF\">Doğrusal Olmayan Modellerin Normal Dağılım Varsayımına Etkisi\n",
    "</h1>"
   ]
  },
  {
   "cell_type": "markdown",
   "id": "048adfba",
   "metadata": {},
   "source": [
    "#### Doğrusal olmayan modeller, bağımsız değişkenlerle bağımlı değişken arasındaki ilişkiyi doğrusal olmayan şekilde ifade eden modellerdir. \n",
    "#### Doğrusal olmayan modellerde hata terimleri genellikle asimetrik olarak dağılır . Bu durum normal dağılım varsayımını zorlaştırır.Çünkü normal dağılım varsayımı simetrik bir yapıyı gerektirir.\n",
    "#### Doğrusal olmayan modellerde asimetrik hata terimleri güvenirliğini etkiler"
   ]
  },
  {
   "cell_type": "markdown",
   "id": "7922da0c",
   "metadata": {},
   "source": [
    "<h1 style=\"background-color:#3b5998;font-family:newtimeroman;font-size:200%;text-align:left;color:#FFFFFF\">Normal Dağılım Varsayımını Sağlayıp Sağlamadığını Nasıl Anlarız ? \n",
    "</h1>"
   ]
  },
  {
   "cell_type": "markdown",
   "id": "8bcb9c62",
   "metadata": {},
   "source": [
    "\n",
    "<h1 style=\"background-color:#FFA500;font-family:newtimeroman;font-size:200%;text-align:left;color:#FFFFFF\">1-Grafik Yöntemi\n",
    "</h1>\n"
   ]
  },
  {
   "cell_type": "markdown",
   "id": "c8aaa02b",
   "metadata": {},
   "source": [
    "### 1.1-Histogram Analizi : Hata terimlerinin histogramları çizilerek dağılımın simetrik olup , olmadığı incelenir.\n",
    "### 1.2-Q-Q Plot Analizi : Gözlem değerleri ile normal dağılımın teorik değerlerini karşılaştırır . Eğer plotun üstünde sapmalar var ise normal dağılımın bozulduğunu söyleyebilirz.\n",
    "### 1.3-Residual Plot Analizi : Bağımsız değişkenlerin düzeyleri ile hata terimlerinin varyansının değişip değişmediğini gösterir. Heteroscedasticity durumları görsel olarak değerlendirilir."
   ]
  },
  {
   "cell_type": "markdown",
   "id": "63a4635a",
   "metadata": {},
   "source": [
    "<h1 style=\"background-color:#FFA500;font-family:newtimeroman;font-size:200%;text-align:left;color:#FFFFFF\">2-İstatistiksel Testler \n",
    "</h1>"
   ]
  },
  {
   "cell_type": "markdown",
   "id": "f9d5c1fc",
   "metadata": {},
   "source": [
    "### 2.1- Shapiro-Wilk Testi \n",
    "### H0:Hata terimleri normal dağılır.\n",
    "### H1 : Hata terimleri normal dağılıma uymaz\n",
    "#### Eğer p-value 0.05'den küçük ise H0 hipotezi red edilir , yani hata terimleri normal dağılıma uymaz sonucuna varabiliriz.\n",
    "### 2.2-Kolmogorov-Smirnov Testi :\n",
    "### H0 : Hata terimleri norrmal dağılıma uyar.\n",
    "### H1: Hata terimleri normal dağılıma uymaz .\n",
    "#### Eğer p-value 0.05'den küçük ise H0 hipotezi red edilir , yani hata terimleri normal dağılıma uymaz sonucuna varabiliriz. "
   ]
  },
  {
   "cell_type": "markdown",
   "id": "6528e510",
   "metadata": {},
   "source": [
    "### 2.3-Jarque-Bera Testi\n",
    "#### H0 : Örnek dağılımı normaldir.\n",
    "#### H1 : Örnek dağılımı normal değildir."
   ]
  },
  {
   "cell_type": "markdown",
   "id": "bfba000a",
   "metadata": {},
   "source": [
    "<h1 style=\"background-color:#3b5998;font-family:newtimeroman;font-size:200%;text-align:left;color:#FFFFFF\">Normal Dağılım Varsayımı Bozulduğunda Nasıl Düzeltilir ? \n",
    "</h1>"
   ]
  },
  {
   "cell_type": "markdown",
   "id": "45c5c3fd",
   "metadata": {},
   "source": [
    "<h1 style=\"background-color:#FFA500;font-family:newtimeroman;font-size:200%;text-align:left;color:#FFFFFF\">1-Transformasyon Yöntemleri\n",
    "</h1>\n"
   ]
  },
  {
   "cell_type": "markdown",
   "id": "85649228",
   "metadata": {},
   "source": [
    "<h1 style=\"background-color:#FF00F7;font-family:newtimeroman;font-size:150%;text-align:left;color:#FFFFFF\">1.1. Logaritmik Dönüşüm:\n",
    "</h1>\n"
   ]
  },
  {
   "cell_type": "markdown",
   "id": "8b21ada2",
   "metadata": {},
   "source": [
    "#### - Asimetrik dağılımlı verilerin düzeltilmesi ve hata terimlerinin normalleştirilmesi için kullanılır.\n",
    "#### - Varyansın sabit olduğu durumlarda etkilidir.\n"
   ]
  },
  {
   "cell_type": "markdown",
   "id": "346ef842",
   "metadata": {},
   "source": [
    "### Matematiksel Formulü:\n",
    "#### log(yi+c)\n",
    "#### yi : Hata Terimi\n",
    "#### c : Küçük bir sabit eklenerek sıfır olan değerlere karşı koruma sağlanır."
   ]
  },
  {
   "cell_type": "markdown",
   "id": "cc52a474",
   "metadata": {},
   "source": [
    "### Avantajları:\n",
    "#### Asimetrik verileri düzeltme avantajına sahiptir.\n",
    "#### Heteroscedasticity durumlarında etkilidir.\n"
   ]
  },
  {
   "cell_type": "markdown",
   "id": "5dc8bd30",
   "metadata": {},
   "source": [
    "### Dezavantajları:\n",
    "#### Logaritmik dönüşüm sonrası katsayıların yorumlanması dikkat gerektirir.\n"
   ]
  },
  {
   "cell_type": "markdown",
   "id": "f963bff3",
   "metadata": {},
   "source": [
    "### Dikkat edilmesi gereken püf noktalar:\n",
    "#### Veri setinde sıfıra yakın değer varsa , logaritma dönüşümü uygulanabilir fakat sıfıra eşit olan değerler logaritmada tanımsızdır . Bu durumu engellemek için küçük bir sabit eklenebilir.\n"
   ]
  },
  {
   "cell_type": "markdown",
   "id": "391c3250",
   "metadata": {},
   "source": [
    "<h1 style=\"background-color:#FF00F7;font-family:newtimeroman;font-size:150%;text-align:left;color:#FFFFFF\">1.2. Karekök Dönüşümü:\n",
    "</h1>\n"
   ]
  },
  {
   "cell_type": "markdown",
   "id": "eb941ca7",
   "metadata": {},
   "source": [
    "### Neden Kullanılır:\n",
    "#### Asimetrik dağılımlı verilerin düzeltilmesi için tercih edilir.\n",
    "#### Varyansın sabit olduğu durumlarda etkilidir.\n"
   ]
  },
  {
   "cell_type": "markdown",
   "id": "b6ff7837",
   "metadata": {},
   "source": [
    "### Matematiksel Formül:\n",
    "#### $\\sqrt{yi}$ \n",
    "#### yi = Hata Terimi "
   ]
  },
  {
   "cell_type": "markdown",
   "id": "f6b35bdb",
   "metadata": {},
   "source": [
    "### Avantajları:\n",
    "#### Logaritmik dönüşüm gibi asimetrik verileri düzeltebilir.\n",
    "#### Yorumlama açısından log dönüşümünden daha doğrudur."
   ]
  },
  {
   "cell_type": "markdown",
   "id": "fce3a52e",
   "metadata": {},
   "source": [
    "### Dezavantajlar:\n",
    "#### Logaritmik dönüşüme göre daha hafif bir düzeltme sağlar."
   ]
  },
  {
   "cell_type": "markdown",
   "id": "0084810e",
   "metadata": {},
   "source": [
    "### Dikkat Edilmesi Gereken Püf Noktalar:\n",
    "#### Veri setinde negatif değerler varsa , karekök dönüşümü uygun olmaz."
   ]
  },
  {
   "cell_type": "markdown",
   "id": "29e1fa74",
   "metadata": {},
   "source": [
    "<h1 style=\"background-color:#FF00F7;font-family:newtimeroman;font-size:150%;text-align:left;color:#FFFFFF\">1.3. Küp Dönüşümü:\n",
    "</h1>\n"
   ]
  },
  {
   "cell_type": "markdown",
   "id": "b1bfbfb6",
   "metadata": {},
   "source": [
    "### Neden Kullanılır?\n",
    "#### Asimetrik dağılımlı verileri düzeltmek için bir seçenek olarak kullanılabilir.\n",
    "#### Varyansın sabit olduğu durumlarda etkilidir."
   ]
  },
  {
   "cell_type": "markdown",
   "id": "42c24b83",
   "metadata": {},
   "source": [
    "### Matematiksel Formül:\n",
    "#### ${yi^3}$\n",
    "#### ${yi}$ : Hata Terimi"
   ]
  },
  {
   "cell_type": "markdown",
   "id": "9cbdd81c",
   "metadata": {},
   "source": [
    "### Avantajları:\n",
    "#### Aykırı değerlere dirençli olabilir.\n",
    "#### Asimetrikliği düzeltmekte kullanılabilir.\n"
   ]
  },
  {
   "cell_type": "markdown",
   "id": "6caff295",
   "metadata": {},
   "source": [
    "### Dezavantajları:\n",
    "#### Logaritmik ve karekök dönüşümleri kadar yaygın kullanılmaz.\n"
   ]
  },
  {
   "cell_type": "markdown",
   "id": "5a04a0a3",
   "metadata": {},
   "source": [
    "### Dikkat Edilmesi Gereken Püf Noktalar\n",
    "#### Küp dönüşümü asimetrikliği düzeltebilir fakat verinin yapısına göre bazen aşırı düzeltme yapılabilir.\n"
   ]
  },
  {
   "cell_type": "markdown",
   "id": "a1d2613b",
   "metadata": {},
   "source": [
    "<h1 style=\"background-color:#FF00F7;font-family:newtimeroman;font-size:175%;text-align:left;color:#FFFFFF\">1.4 HANGİ DURUMLARDA HANGİSİ KULLANILMALIDIR ? \n",
    "</h1>\n"
   ]
  },
  {
   "cell_type": "markdown",
   "id": "6986fa2e",
   "metadata": {},
   "source": [
    "### Logaritmik Dönüşümü :\n",
    "#### Asimetriklik yüksekse ve varyans sabitse tercih edilir\n",
    "#### Heteroscedasticity durumunda etkilidir.\n"
   ]
  },
  {
   "cell_type": "markdown",
   "id": "bfe6467d",
   "metadata": {},
   "source": [
    "### Karekök Dönüşümü : \n",
    "#### Asimetriklik düzeltme ihtiyacı varsa ve logaritma dönüşümü kuvvetli bir dönüşüm yapmıyorsa kullanılabilir.\n"
   ]
  },
  {
   "cell_type": "markdown",
   "id": "ec79d3f7",
   "metadata": {},
   "source": [
    "### Küp Dönüşümü:\n",
    "#### Aykırı değerlere karşı direnç sağlamak ve asimetrikliği düzeltmek için kullanılır.\n",
    "#### Diğer dönüşümler etkili olmadığında denenir\n"
   ]
  },
  {
   "cell_type": "markdown",
   "id": "675646d9",
   "metadata": {},
   "source": [
    "<h1 style=\"background-color:#FFA500;font-family:newtimeroman;font-size:200%;text-align:left;color:#FFFFFF\">2-Robust Yöntemler\n",
    "</h1>\n"
   ]
  },
  {
   "cell_type": "markdown",
   "id": "e2cfb80a",
   "metadata": {},
   "source": [
    "<h1 style=\"background-color:#FF00F7;font-family:newtimeroman;font-size:150%;text-align:left;color:#FFFFFF\">2.1 Medyan Regresyonu:\n",
    "</h1>\n"
   ]
  },
  {
   "cell_type": "markdown",
   "id": "cec11059",
   "metadata": {},
   "source": [
    "### Neden Kullanılır?\n",
    "#### Aykırı değerlere karşı dirençlidir.\n",
    "#### Medyan , ortalama yerine kullanılarak aykırı değerlerin etkisi azaltılır.\n"
   ]
  },
  {
   "cell_type": "markdown",
   "id": "a3bf709b",
   "metadata": {},
   "source": [
    "### Formulü:\n",
    "$\\arg \\min_{\\beta_0, \\beta_1} \\sum_{i=1}^{n} L_{\\delta}|y_i - \\beta_0 - \\beta_1 x_i|$\n"
   ]
  },
  {
   "cell_type": "markdown",
   "id": "c0d2c66f",
   "metadata": {},
   "source": [
    "### Avantajları:\n",
    "#### Aykırı değerlere karşı dayanıklıdır\n",
    "#### Normal dağışım varsayımına uymaz.\n",
    "### Dezavantajları:\n",
    "#### Daha az veriye dayanarak tahmin yapar"
   ]
  },
  {
   "cell_type": "markdown",
   "id": "4cf71520",
   "metadata": {},
   "source": [
    "<h1 style=\"background-color:#FF00F7;font-family:newtimeroman;font-size:150%;text-align:left;color:#FFFFFF\">2.2 Huber  Regresyonu:\n",
    "</h1>\n"
   ]
  },
  {
   "cell_type": "markdown",
   "id": "4fe89272",
   "metadata": {},
   "source": [
    "### Neden Kullanılır ?\n",
    "#### Aykırı değerlere karşı dirençli olup , medyan ve ortalama regresyon yöntemlerinin birleşimidir.\n",
    "### Formulü"
   ]
  },
  {
   "cell_type": "markdown",
   "id": "7190d4ac",
   "metadata": {},
   "source": [
    "$$\n",
    "\\arg \\min_{\\beta_0, \\beta_1} \\sum_{i=1}^{n} L_{\\delta}(y_i - \\beta_0 - \\beta_1 x_i)\n",
    "$$"
   ]
  },
  {
   "cell_type": "markdown",
   "id": "12e8514b",
   "metadata": {},
   "source": [
    "$  L_{\\delta}$ : Huber kaybı fonksiyonu"
   ]
  },
  {
   "cell_type": "markdown",
   "id": "0d705942",
   "metadata": {},
   "source": [
    "### Avantajlar:\n",
    "#### Aykırı değerlere karşı dirençlidir ve medyan regresyonunun avantajlarına sahiptir.\n",
    "### Dezavantajlar:\n",
    "#### Huber kaybı fonk. hiperparametresi (delta) belirlenmelidir.\n"
   ]
  },
  {
   "cell_type": "markdown",
   "id": "35067fb1",
   "metadata": {},
   "source": [
    "<h1 style=\"background-color:#FF00F7;font-family:newtimeroman;font-size:150%;text-align:left;color:#FFFFFF\">2.3 RANSAC (Random Sample Consensus):\n",
    "</h1>\n",
    "\n"
   ]
  },
  {
   "cell_type": "markdown",
   "id": "64b7eb79",
   "metadata": {},
   "source": [
    "### Neden Kullanılır ?:\n",
    "#### Aykırı değerlere karşı dirençli ve modeli oluştururken rassal bir örnekleme yaklaşımını kullanır."
   ]
  },
  {
   "cell_type": "markdown",
   "id": "d52df02d",
   "metadata": {},
   "source": [
    "### Nasıl Yapılır ? \n",
    "#### Rassal örneklemler alınarak , bu örneklemlerle model oluşturur . En iyi model aykırı olmayan gözlemlerin çoğunluğunu içeren örneklem üzerinden seçilir.\n",
    "### Avantajlar :\n",
    "#### Aykırı değerlere karşı dirençli olup doğru modeli bulma olasılığını arttırır .\n",
    "#### Rassal örnekleme yapısından dolayı , verideki anormal gözlemlerin etkisini azaltır.\n",
    "### Dezavantajlar:\n",
    "#### Rassal örnekleme yapıldığı için her seferinde farklı sonuçlar alınabilir.\n"
   ]
  },
  {
   "cell_type": "markdown",
   "id": "bbeb17e6",
   "metadata": {},
   "source": [
    "<h1 style=\"background-color:#FF00F7;font-family:newtimeroman;font-size:150%;text-align:left;color:#FFFFFF\">2.4 Tükendi Yükseklik Regresyonu (Least Trimmed Squares):\n",
    "</h1>\n",
    "\n"
   ]
  },
  {
   "cell_type": "markdown",
   "id": "d39e2838",
   "metadata": {},
   "source": [
    "### Neden Kullanılır ?\n",
    "#### Aykırı değerlere karşı dirençlidir ve medyan regresyonunun geliştirir. Aykırı değerlerin etkisini en aza indirerek daha güvenilir regresyon modelleri elde edilmesine katkıda bulunur.\n",
    "### Nasıl Yapılır ? \n",
    "#### Verinin belirli bir yüzdeliğini örneğin %50'sini dışarıda bırakarak model oluşturur.\n",
    "### Avantajlar:\n",
    "#### Aykırı değerlere karşı dirençlidir bu sayede daha güvenilir modeller elde edilmesini sağlar.\n",
    "#### Medyan regresyonunu geliştirir bu saayede daha güvenilir merkezi eğilimli modeller elde edilir.\n",
    "### Dezavantajlar:\n",
    "#### Model oluşturulurken bir yüzde belirlenmelidir ."
   ]
  },
  {
   "cell_type": "markdown",
   "id": "d7d71dc0",
   "metadata": {},
   "source": [
    "<h1 style=\"background-color:#FFA500;font-family:newtimeroman;font-size:200%;text-align:left;color:#FFFFFF\">3-Alternatif Testler\n",
    "</h1>\n"
   ]
  },
  {
   "cell_type": "markdown",
   "id": "5c6c3c41",
   "metadata": {},
   "source": [
    "<h1 style=\"background-color:#FF00F7;font-family:newtimeroman;font-size:150%;text-align:left;color:#FFFFFF\">3.1 Non-parametrik Testler\n",
    "</h1>\n",
    "\n"
   ]
  },
  {
   "cell_type": "markdown",
   "id": "3d3745e3",
   "metadata": {},
   "source": [
    "### Neden Kullanılır?\n",
    "#### Normal dağılım varsayımından bağımsız olarak kullanılabilir.\n",
    "#### Özellikle büyük örneklem durumlarında tercih edilebilir.\n",
    "### Avantajlar:\n",
    "#### Normal dağılım varsayımına ihtiyaç duymaz.\n",
    "#### Parametrik testlere göre daha esnek ve dağılmaya karşı daha dirençlidir.\n",
    "#### Büyük örneklem durumlarında güvenilir sonuçlar verebilir.\n",
    "#### Dağılımın belirli bir şekli hakkında önyargı olmaksızın çalışabilir.\n",
    "### Dezavantajlar:\n",
    "#### Parametrik testlere göre daha düşük hassasiyete sahip olabilir.\n",
    "#### Bazı durumlarda daha fazla veriye ihtiyaç duyabilir."
   ]
  },
  {
   "cell_type": "markdown",
   "id": "acc4ed19",
   "metadata": {},
   "source": [
    "<h1 style=\"background-color:#FF00F7;font-family:newtimeroman;font-size:150%;text-align:left;color:#FFFFFF\">3.2 Model Serbest Yöntemler:\n",
    "</h1>\n",
    "\n"
   ]
  },
  {
   "cell_type": "markdown",
   "id": "f978d4e8",
   "metadata": {},
   "source": [
    "### Neden Kullanılır?\n",
    "#### Veri setinin dağılımı hakkında önyargı olmaksızın analiz yapılmasına olanak tanır.\n",
    "#### Daha esnek ve parametrik olmayan bir yaklaşım sunar.\n",
    "### Avantajlar:\n",
    "#### Normal dağılım varsayımından bağımsız çalışabilir.\n",
    "#### Farklı veri setlerine uygulanabilir.\n",
    "#### Modelin daha genel bir şekilde uygulanabilmesine olanak tanır.\n",
    "#### Dağılımın belirli bir şekli hakkında önyargı olmaksızın çalışabilir.\n",
    "### Dezavantajlar:\n",
    "#### Parametrik yöntemlere göre belirli bir konuda daha az bilgi sunabilir.\n",
    "#### Bazı durumlarda daha fazla veriye ihtiyaç duyabilir."
   ]
  },
  {
   "cell_type": "markdown",
   "id": "3e9b3e2d",
   "metadata": {},
   "source": [
    "#### Non-parametrik testler ve model serbest yöntemler, normal dağılım varsayımını gereksiz kılar ve daha genel bir perspektiften analiz yapılmasına imkan tanır. Bu yöntemler, özellikle büyük örneklem durumlarında ve verinin belirli bir dağılıma uymadığı durumlarda etkili olabilir. "
   ]
  },
  {
   "cell_type": "markdown",
   "id": "b9516d66",
   "metadata": {},
   "source": [
    "<h1 style=\"background-color:#FFA500;font-family:newtimeroman;font-size:200%;text-align:left;color:#FFFFFF\">4-Aykırı Değerlerin İncelenmesi ve Düzeltilmesi\n",
    "</h1>\n"
   ]
  },
  {
   "cell_type": "markdown",
   "id": "027a2b20",
   "metadata": {},
   "source": [
    "#### Aykırı değerler, genel trendden sapma eğiliminde oldukları için normal dağılımı bozabilir. Aykırı değerleri tanımlamak ve düzeltmek, regresyon modelinin güvenilirliğini artırabilir."
   ]
  },
  {
   "cell_type": "markdown",
   "id": "09bb7843",
   "metadata": {},
   "source": [
    "<h1 style=\"background-color:#FF00F7;font-family:newtimeroman;font-size:150%;text-align:left;color:#FFFFFF\">Aykırı Değerlerin Tanımlanması Neden Önemlidir ? \n",
    "</h1>\n",
    "\n"
   ]
  },
  {
   "cell_type": "markdown",
   "id": "1672cefa",
   "metadata": {},
   "source": [
    "#### Aykırı değerler, veri setinde genel eğilimden sapmış olan gözlemlerdir.\n",
    "#### Regresyon analizinde bu değerlerin tanımlanması, modelin yanıltıcı olmasını engeller.\n"
   ]
  },
  {
   "cell_type": "markdown",
   "id": "1355cd0a",
   "metadata": {},
   "source": [
    "<h1 style=\"background-color:#FF00F7;font-family:newtimeroman;font-size:150%;text-align:left;color:#FFFFFF\">Numerik Değişkenlerde Aykırı Değer Tespit Etme Yöntemi\n",
    "</h1>"
   ]
  },
  {
   "cell_type": "markdown",
   "id": "a7dcebec",
   "metadata": {},
   "source": [
    "### Boxplot"
   ]
  },
  {
   "attachments": {
    "image.png": {
     "image/png": "[encoded data removed]"
    }
   },
   "cell_type": "markdown",
   "id": "b37a667a",
   "metadata": {},
   "source": [
    "![image.png](attachment:image.png)"
   ]
  },
  {
   "cell_type": "markdown",
   "id": "8301f579",
   "metadata": {},
   "source": [
    "<h1 style=\"background-color:#FF00F7;font-family:newtimeroman;font-size:150%;text-align:left;color:#FFFFFF\">Tukey Yöntemi ile Aykırı Değer Tespiti\n",
    "</h1>"
   ]
  },
  {
   "cell_type": "markdown",
   "id": "efe8e74a",
   "metadata": {},
   "source": [
    "#### Tukey Yöntemi, bir veri setinin çeyreklerine dayanır ve \"IQR (Interquartile Range - Çeyrekler Arası Aralık)\" adı verilen ölçü ile aykırı değerleri tanımlar. Boxplotun matematiksel halidir."
   ]
  },
  {
   "cell_type": "markdown",
   "id": "ff584e81",
   "metadata": {},
   "source": [
    "### Nasıl Yapılır ? "
   ]
  },
  {
   "cell_type": "markdown",
   "id": "2afe7085",
   "metadata": {},
   "source": [
    "#### Q1 ve Q3 Hesaplama: Q1 veri setinin ilk çeyreği Q3 ise veri setinin üçüncü çeyreğidir."
   ]
  },
  {
   "cell_type": "markdown",
   "id": "b22390bb",
   "metadata": {},
   "source": [
    "#### IQR Hesaplama : $IQR = Q3-Q1$"
   ]
  },
  {
   "cell_type": "markdown",
   "id": "5cbefee7",
   "metadata": {},
   "source": [
    "#### Alt sınır hesaplama : $Q1 - 1.5*IQR$\n",
    "#### Üst sınır hesaplama : $Q3 + 1.5*IQR$"
   ]
  },
  {
   "cell_type": "markdown",
   "id": "3bd7cff8",
   "metadata": {},
   "source": [
    "#### Aykırı Değer Belirleme : Alt sınırdan daha küçük değerleri veya üst sınırdan daha büyük veri noktalarına aykırı değer diyebiliriz."
   ]
  },
  {
   "cell_type": "markdown",
   "id": "88d217be",
   "metadata": {},
   "source": [
    "<h1 style=\"background-color:#FF00F7;font-family:newtimeroman;font-size:150%;text-align:left;color:#FFFFFF\">Z-Skor İle Aykırı Değer Tespiti\n",
    "</h1>"
   ]
  },
  {
   "cell_type": "markdown",
   "id": "3d8db831",
   "metadata": {},
   "source": [
    "#### Z-skor, bir veri noktasının, veri setinin ortalamasından ne kadar uzakta olduğunu standart sapma birimleriyle ifade eden bir ölçüdür. "
   ]
  },
  {
   "attachments": {
    "image.png": {
     "image/png": "[encoded data removed]"
    }
   },
   "cell_type": "markdown",
   "id": "2722b1a4",
   "metadata": {},
   "source": [
    "![image.png](attachment:image.png)"
   ]
  },
  {
   "cell_type": "markdown",
   "id": "a9247c8a",
   "metadata": {},
   "source": [
    "#### Z skoru genellikle -3 ile +3 arasında değerler alır . Eğer sonucumuz -3 ve +3'ün ötesinde ise veri aykırı olarak kabul edilir."
   ]
  },
  {
   "cell_type": "markdown",
   "id": "35759432",
   "metadata": {},
   "source": [
    "<h1 style=\"background-color:#FF00F7;font-family:newtimeroman;font-size:150%;text-align:left;color:#FFFFFF\"> Grubbs Testi\n",
    "</h1>"
   ]
  },
  {
   "cell_type": "markdown",
   "id": "8f7d6dd7",
   "metadata": {},
   "source": [
    "#### Grubbs Testi, bir tek aykırı değeri belirlemek üzere tasarlanmıştır. Bu test, en büyük veya en küçük değeri aykırı olarak değerlendirir."
   ]
  },
  {
   "attachments": {
    "image.png": {
     "image/png": "[encoded data removed]"
    }
   },
   "cell_type": "markdown",
   "id": "f3f48eed",
   "metadata": {},
   "source": [
    "![image.png](attachment:image.png)"
   ]
  },
  {
   "cell_type": "markdown",
   "id": "43856663",
   "metadata": {},
   "source": [
    "#### H0 : Veri setinde aykırı değer yoktur\n",
    "#### H1 : Veri setinde aykırı değer vardır.\n",
    "#### $y_i$ : Veri setindeki aykırı değer"
   ]
  },
  {
   "cell_type": "markdown",
   "id": "d95ae539",
   "metadata": {},
   "source": [
    "#### $ \\overline{y}_i $ : Veri setinin ortalaması\n",
    "#### $s$ : Veri setinin standart sapması"
   ]
  },
  {
   "cell_type": "markdown",
   "id": "d458a88a",
   "metadata": {},
   "source": [
    "#### Hesaplanan değer $t _ elestiri$ değerinden büyükse H0 red edilir yani veri setimizde aykırı değer vardır"
   ]
  },
  {
   "cell_type": "markdown",
   "id": "e592a86d",
   "metadata": {},
   "source": [
    "<h1 style=\"background-color:#FF00F7;font-family:newtimeroman;font-size:150%;text-align:left;color:#FFFFFF\"> Dixon's Q Testi\n",
    "</h1>"
   ]
  },
  {
   "cell_type": "markdown",
   "id": "6b555832",
   "metadata": {},
   "source": [
    "#### Bu test, bir veri setindeki en küçük veya en büyük değeri aykırı olarak kabul edilen bir değer tespit etmeye odaklanır. \n",
    "#### H0 : Veri setinde aykırı değer yoktur.\n",
    "#### H1 : Veri setinde aykırı değer vardır.(Veri setindeki en küçük veya en büyük değer aykırıdır.\n"
   ]
  },
  {
   "cell_type": "markdown",
   "id": "61647f25",
   "metadata": {},
   "source": [
    "##             $\\frac{|X_2 - X_1|}{X_3 - X_1}$"
   ]
  },
  {
   "cell_type": "markdown",
   "id": "77378bd5",
   "metadata": {},
   "source": [
    "### Nasıl Yapılır ? \n",
    "#### Veri setini küçükten büyüğe doğru sıralayın.\n"
   ]
  },
  {
   "cell_type": "markdown",
   "id": "b2bda36f",
   "metadata": {},
   "source": [
    "#### Bulduğumuz sonuç , belirlediğimiz güven düzeyinin Dixon's Q tablosundaki değerinden büyük ise  H0 hipotezi red edilir yani veri setindeki en küçük veya en büyük değer aykırıdır."
   ]
  },
  {
   "cell_type": "markdown",
   "id": "673fa012",
   "metadata": {},
   "source": [
    "### MAD(Median Absolute Error Deviation - Ortanca Mutlak Sapma) "
   ]
  },
  {
   "cell_type": "markdown",
   "id": "483da159",
   "metadata": {},
   "source": [
    "#### Veri noktalarının ortanca değerinden mutlak sapmalarının ortanca değeri olarak hesaplanır."
   ]
  },
  {
   "cell_type": "markdown",
   "id": "cd901dc0",
   "metadata": {},
   "source": [
    "#### $|X_i- M|$\n",
    "#### $ X_i : Veri $\n",
    "#### $M : Ortanca  (Medyan)$"
   ]
  },
  {
   "cell_type": "markdown",
   "id": "63aa9ac7",
   "metadata": {},
   "source": [
    "### Nasıl Yapılır ?\n",
    "#### Verilerimiz küçükten büyüğe sıralanır ve en ortanca değer M değişkeni olarak atanır . \n",
    "#### Her bir veriden medyanı çıkarıp mutlak değerini aldığımız zaman bu değer bize MAD değerini verecektir.\n",
    "#### Eşik değeri belirlenir örneğin 2 olsun. 2 X MAD değerinden büyük değerler aykırı değer olarak kabul edilir"
   ]
  },
  {
   "cell_type": "markdown",
   "id": "44d721ac",
   "metadata": {},
   "source": [
    "<h1 style=\"background-color:#FF00F7;font-family:newtimeroman;font-size:150%;text-align:left;color:#FFFFFF\">  Kategorik Değişkenlerde Aykırı Değer Tespiti\n",
    "</h1>\n"
   ]
  },
  {
   "cell_type": "markdown",
   "id": "ed1fbb59",
   "metadata": {},
   "source": [
    "#### Tek bir değişkenin aykırı değerini tespit etmek istediğimiz zaman unique değer sayıları ile tespit edebiliriz.  Ya da histogram çizdirerek görsel şekilde de bakabiliriz."
   ]
  },
  {
   "cell_type": "markdown",
   "id": "9ae6ffb4",
   "metadata": {},
   "source": [
    "#### İki kategorik değişken için aykırı değer analizi yapıyorsak çapraz tablo(crosstab) oluşturarak diğer değerlerden fark edilecek şekilde küçük olan değerlere aykırı değer diyebiliriz."
   ]
  },
  {
   "cell_type": "markdown",
   "id": "cf85ba76",
   "metadata": {},
   "source": [
    "<h1 style=\"background-color:#FF00F7;font-family:newtimeroman;font-size:150%;text-align:left;color:#FFFFFF\">  Çok Değişkenli Aykırı Değer Tespiti\n",
    "</h1>\n"
   ]
  },
  {
   "cell_type": "markdown",
   "id": "3ed71d9d",
   "metadata": {},
   "source": [
    "### Kümeleme analizi kullanılır.\n",
    "#### Min-max standartlaştırması ile değerlerimizi standartlaştırmalıyız\n",
    "#### Sonrasında KMeans kümeleme yöntemi ile kümeleme analizini gerçekleştireceğiz.\n",
    "#### Clusterlarımızı incelediğimiz zaman cluster içindeki veri sayısına bakarak karar veririz . Genel olarak clusterlar içinde çok az bir veri var ise aykırı değer var diyebiliriz."
   ]
  },
  {
   "cell_type": "markdown",
   "id": "915fbdd4",
   "metadata": {},
   "source": [
    "<h1 style=\"background-color:#FFA500;font-family:newtimeroman;font-size:200%;text-align:left;color:#FFFFFF\">Aykırı Değer ile Nasıl Başa Çıkarız \n",
    "</h1>\n"
   ]
  },
  {
   "cell_type": "markdown",
   "id": "10cc279b",
   "metadata": {},
   "source": [
    "<h1 style=\"background-color:#FF00F7;font-family:newtimeroman;font-size:150%;text-align:left;color:#FFFFFF\"> Üst Sınır Ve Alt Sınıra Baskılamak\n",
    "</h1>\n"
   ]
  },
  {
   "cell_type": "markdown",
   "id": "ab34da6e",
   "metadata": {},
   "source": [
    "#### Tukey yönteminde hesapladığımız alt sınıra alt sınırdan aşağıdaki değerleri  , üst sınıra ise üst sınırdan fazla değerleri eşitleriz. "
   ]
  },
  {
   "cell_type": "markdown",
   "id": "e2a74602",
   "metadata": {},
   "source": [
    "### Hangi Durumlarda Yapılır ? \n",
    "#### Aykırı değer tek değişkenliyse\n",
    "#### Analiz hedefimiz ya da kullandığımız araç aykırı değere hassas ise\n",
    "#### Ayırı değerleri eşitlememiz analizimizin sonuçlarını etkilemeyecek ise"
   ]
  },
  {
   "cell_type": "markdown",
   "id": "c4eadb18",
   "metadata": {},
   "source": [
    "<h1 style=\"background-color:#FF00F7;font-family:newtimeroman;font-size:150%;text-align:left;color:#FFFFFF\">Logaritmik Dönüşüm\n",
    "</h1>\n"
   ]
  },
  {
   "cell_type": "markdown",
   "id": "6fc80157",
   "metadata": {},
   "source": [
    "#### Değişkenin üstel bir dağılımı takip ettiği durumlarda, bazı veri noktalarının geri kalan popülasyondan çok farklı olması normal olabilir. Bu durumda, bu aykırılıklarla başa çıkmak ve veriyi daha tutarlı hale getirmek için logaritmik dönüşüm uygulamak en iyi yaklaşım olabilir\n",
    "#### Sağa çarpıksa Logaritmik dönüşüm, bu tür durumlarda veriyi daha normal veya simetrik bir dağılım haline getirerek analiz için daha uygun hale getirir.\n",
    "#### Sola çarpıksa - ile çarpılır sağa çarpık hale getirilir sonrasında log ya da kök x karekök dönüşümü ile normalize edilir. ve normal dağılıp dağılmadığı tekrar incelenir."
   ]
  },
  {
   "cell_type": "markdown",
   "id": "1f36c122",
   "metadata": {},
   "source": [
    "<h1 style=\"background-color:#FF00F7;font-family:newtimeroman;font-size:150%;text-align:left;color:#FFFFFF\">Aykırı Değerleri Kaldırmak \n",
    "</h1>\n"
   ]
  },
  {
   "cell_type": "markdown",
   "id": "5fc6b7dd",
   "metadata": {},
   "source": [
    "#### Diğer yöntemler işe yaramadığı zaman bu yöntemi kullanırız.\n",
    "#### Burada asıl amacımız çok önemlidir. Örneğin populasyon dağılımının çoğunluğu 40 ve 100 arasındadır .Eğer amacımız bunu göstermek ise aykırı değerleri yok sayabiliriz fakat amacımız gerçek değerleri göstermek ise aykırı değerleri kaldırmamalıyız."
   ]
  },
  {
   "attachments": {
    "image.png": {
     "image/png": "[encoded data removed]"
    }
   },
   "cell_type": "markdown",
   "id": "2e16aa9e",
   "metadata": {},
   "source": [
    "![image.png](attachment:image.png)"
   ]
  },
  {
   "attachments": {
    "image.png": {
     "image/png": "[encoded data removed]"
    }
   },
   "cell_type": "markdown",
   "id": "85a5ad2a",
   "metadata": {},
   "source": [
    "![image.png](attachment:image.png)"
   ]
  },
  {
   "cell_type": "markdown",
   "id": "accd91f5",
   "metadata": {},
   "source": [
    "<h1 style=\"background-color:#FFA500;font-family:newtimeroman;font-size:200%;text-align:left;color:#FFFFFF\">5-Yeniden Örnekleme\n",
    "</h1>\n"
   ]
  },
  {
   "cell_type": "markdown",
   "id": "f299a973",
   "metadata": {},
   "source": [
    "<h1 style=\"background-color:#FF00F7;font-family:newtimeroman;font-size:150%;text-align:left;color:#FFFFFF\">Neden Kullanılır\n",
    "</h1>\n"
   ]
  },
  {
   "cell_type": "markdown",
   "id": "6ba76335",
   "metadata": {},
   "source": [
    "#### Normal Dağılımın Sağlanması: Büyük örneklem durumlarında, veri seti normal dağılımı sağlamıyorsa, regresyon analizi gibi parametrik yöntemlerin güvenilirliği düşebilir. Bu durumda, yeniden örnekleme yöntemleri kullanarak veriyi normalleştirmek, analiz sonuçlarını iyileştirebilir."
   ]
  },
  {
   "cell_type": "markdown",
   "id": "c5ee5505",
   "metadata": {},
   "source": [
    "#### Normal Dağılımın Sağlanması: Büyük örneklem durumlarında, veri seti normal dağılımı sağlamıyorsa, regresyon analizi gibi parametrik yöntemlerin güvenilirliği düşebilir. Bu durumda, yeniden örnekleme yöntemleri kullanarak veriyi normalleştirmek, analiz sonuçlarını iyileştirebilir."
   ]
  },
  {
   "cell_type": "markdown",
   "id": "7b9830d1",
   "metadata": {},
   "source": [
    "<h1 style=\"background-color:#FF00F7;font-family:newtimeroman;font-size:150%;text-align:left;color:#FFFFFF\">Nasıl Kullanılır\n",
    "</h1>\n"
   ]
  },
  {
   "cell_type": "markdown",
   "id": "c0f78224",
   "metadata": {},
   "source": [
    "<h1 style=\"background-color:#FF00F7;font-family:newtimeroman;font-size:150%;text-align:left;color:#FFFFFF\">Bootstrap Yöntemi :\n",
    "</h1>\n"
   ]
  },
  {
   "cell_type": "markdown",
   "id": "eda1d944",
   "metadata": {},
   "source": [
    "#### Büyük örneklemde sıkça kullanılır. Rasgele örneklemler alınarak bu örneklemler üzerinde tekrar tekrar analiz yapılır. Peki nasıl yapılır ?\n"
   ]
  },
  {
   "cell_type": "markdown",
   "id": "d7a6f80a",
   "metadata": {},
   "source": [
    "### Adım 1 : Rasgele örneklemler almak : \n",
    "#### Veriler geriye koyma yöntemiyle rastgele seçilir.\n",
    "### Adım 2 : Aldığımız örneklemler üzerinde analiz yapmak:\n",
    "#### Seçilen örneklemler üzerinde istatistiksel analiz gerçekleştirilir . Bu analiz genellikle ilgili parametrelerin örneğin ortalama , standart sapma , regresyon katsayıları gibi istatistikleri içerir.\n",
    "### Adım 3 : Adımları çok kez tekrarlamak:\n",
    "#### Adım 1 ve Adım 2 n kez tekrarlanır sonrasında her seferinde farklı örneklem seçildiği için bu adım örneklemlerden elde edilen istatistiksel değerlerin dağılımını oluşturur\n",
    "### Adım 4 :Güven Aralığı Hesaplamak:\n",
    "#### Elde edilen istatistiksel değerlerin dağılımına dayanarak istenilen güven aralığı belirlenir.\n"
   ]
  },
  {
   "cell_type": "markdown",
   "id": "86720ed1",
   "metadata": {},
   "source": [
    "<h1 style=\"background-color:#FF00F7;font-family:newtimeroman;font-size:150%;text-align:left;color:#FFFFFF\">Permutasyon Testleri:\n",
    "</h1>\n"
   ]
  },
  {
   "cell_type": "markdown",
   "id": "5f909798",
   "metadata": {},
   "source": [
    "#### Adım 1 : Gözlemlerin Yerlerini Değiştirmek\n",
    "#### Amacı : İki grup arsaında farkın test edilmesi durumunda test ve train sabit tutularak gözlemlerin yerleri rasgele değiştirilir.\n",
    "#### Adım 2 : Test İstatistiğini Hesaplamak:\n",
    "#### Yerleri değiştirilen gözlemler üzerinde istatistiksel testler yapılır\n",
    "#### Adım 3 : Gözlenen Farkın Anlamlılığını Değerlendirmek:\n",
    "#### Bulduğumuz test istatistiği kullanılarak p-value bulunur verimizin normal olup olmadığı kontrol edilir. "
   ]
  },
  {
   "cell_type": "code",
   "execution_count": null,
   "id": "67d6f797",
   "metadata": {},
   "outputs": [],
   "source": [
    "\n"
   ]
  }
 ],
 "metadata": {
  "kernelspec": {
   "display_name": "Python 3 (ipykernel)",
   "language": "python",
   "name": "python3"
  },
  "language_info": {
   "codemirror_mode": {
    "name": "ipython",
    "version": 3
   },
   "file_extension": ".py",
   "mimetype": "text/x-python",
   "name": "python",
   "nbconvert_exporter": "python",
   "pygments_lexer": "ipython3",
   "version": "3.11.5"
  }
 },
 "nbformat": 4,
 "nbformat_minor": 5
}
